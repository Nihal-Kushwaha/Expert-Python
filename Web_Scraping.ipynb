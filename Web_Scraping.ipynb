{
  "nbformat": 4,
  "nbformat_minor": 0,
  "metadata": {
    "colab": {
      "provenance": []
    },
    "kernelspec": {
      "name": "python3",
      "display_name": "Python 3"
    },
    "language_info": {
      "name": "python"
    }
  },
  "cells": [
    {
      "cell_type": "code",
      "execution_count": 1,
      "metadata": {
        "colab": {
          "base_uri": "https://localhost:8080/"
        },
        "id": "p7pLxWB6PESO",
        "outputId": "dae80969-f121-4243-e94e-0a6905d61c9a"
      },
      "outputs": [
        {
          "output_type": "stream",
          "name": "stdout",
          "text": [
            "Requirement already satisfied: requests in /usr/local/lib/python3.11/dist-packages (2.32.3)\n",
            "Requirement already satisfied: charset-normalizer<4,>=2 in /usr/local/lib/python3.11/dist-packages (from requests) (3.4.2)\n",
            "Requirement already satisfied: idna<4,>=2.5 in /usr/local/lib/python3.11/dist-packages (from requests) (3.10)\n",
            "Requirement already satisfied: urllib3<3,>=1.21.1 in /usr/local/lib/python3.11/dist-packages (from requests) (2.4.0)\n",
            "Requirement already satisfied: certifi>=2017.4.17 in /usr/local/lib/python3.11/dist-packages (from requests) (2025.4.26)\n",
            "Requirement already satisfied: beautifulsoup4 in /usr/local/lib/python3.11/dist-packages (4.13.4)\n",
            "Requirement already satisfied: soupsieve>1.2 in /usr/local/lib/python3.11/dist-packages (from beautifulsoup4) (2.7)\n",
            "Requirement already satisfied: typing-extensions>=4.0.0 in /usr/local/lib/python3.11/dist-packages (from beautifulsoup4) (4.13.2)\n"
          ]
        }
      ],
      "source": [
        "!pip install requests\n",
        "!pip install beautifulsoup4\n",
        "\n",
        "from bs4 import BeautifulSoup\n",
        "import requests"
      ]
    },
    {
      "cell_type": "markdown",
      "source": [
        "**Extract Headlines from TCS: Extract top 5 headlines from https://www.tcs.com/insights**\n"
      ],
      "metadata": {
        "id": "X2gB18bkPe8-"
      }
    },
    {
      "cell_type": "code",
      "source": [
        "import requests\n",
        "from bs4 import BeautifulSoup\n",
        "\n",
        "def get_tcs_headlines():\n",
        "    url = \"https://www.tcs.com/insights\"\n",
        "    response = requests.get(url)\n",
        "    soup = BeautifulSoup(response.text, 'html.parser')\n",
        "\n",
        "    headline = soup.find_all(\"h3\")\n",
        "    for i, h in enumerate(headline[:5]):\n",
        "        print(f\"{i+1}. {h.get_text(strip=True)}\")\n",
        "get_tcs_headlines()"
      ],
      "metadata": {
        "colab": {
          "base_uri": "https://localhost:8080/"
        },
        "id": "Z_Uzt97VPf7F",
        "outputId": "0c0cbeb6-aed2-4911-bb87-b713e7f1b0e7"
      },
      "execution_count": 2,
      "outputs": [
        {
          "output_type": "stream",
          "name": "stdout",
          "text": [
            "1. TCS is here to make a difference through technology.\n",
            "2. We deliver excellence and create value for customers and communities.\n",
            "3. Extraordinary expertise leads to remarkable results.\n",
            "4. Want to be a global change-maker?  Join our team.\n",
            "5. Find the latest news about TCS in our Newsroom\n"
          ]
        }
      ]
    },
    {
      "cell_type": "markdown",
      "source": [
        " **Get All Hyperlinks from a Website\n",
        "Goal: Extract and print all <a> tags (text + href) from https://www.ibm.com/in-en**"
      ],
      "metadata": {
        "id": "1C2Xo7bPTbRE"
      }
    },
    {
      "cell_type": "code",
      "source": [
        "def extract_links():\n",
        "    url = \"https://www.ibm.com/in-en\"\n",
        "    response = requests.get(url)\n",
        "    soup = BeautifulSoup(response.text, 'html')\n",
        "\n",
        "    links = soup.find_all('a')\n",
        "    for link in links:\n",
        "        text = link.get_text(strip=True)\n",
        "        href = link.get('href')\n",
        "        if href:\n",
        "            print(f\"Text: {text} | Link: {href}\")\n",
        "\n",
        "extract_links()\n"
      ],
      "metadata": {
        "colab": {
          "base_uri": "https://localhost:8080/"
        },
        "id": "49weSnwmSVNh",
        "outputId": "9abc6b2b-7a54-4aea-8106-899798c55baa"
      },
      "execution_count": 4,
      "outputs": [
        {
          "output_type": "stream",
          "name": "stdout",
          "text": [
            "Text: Explore our AI solutions | Link: https://www.ibm.com/watsonx?lnk=hpls1in\n",
            "Text: Create personalized AI agents and assistants | Link: https://www.ibm.com/products/watsonx-orchestrate?lnk=hpls2in\n",
            "Text: Start building with IBM Granite models | Link: https://www.ibm.com/granite?lnk=dev\n",
            "Text: Explore AI courses, APIs, data sets and more | Link: https://developer.ibm.com/technologies/artificial-intelligence?lnk=dev\n",
            "Text: Accelerate software development with watsonx Code Assistant | Link: https://www.ibm.com/products/watsonx-code-assistant?lnk=dev\n",
            "Text: Check out the watsonx.ai Developer Toolkit | Link: https://www.ibm.com/watsonx/developer/?lnk=dev\n",
            "Text: Read the CEO's guide to generative AI | Link: https://www.ibm.com/thought-leadership/institute-business-value/report/ceo-generative-ai?lnk=bus\n",
            "Text: Explore an AI curriculum designed for business leaders | Link: https://www.ibm.com/think/videos/ai-academy\n",
            "Text: Deploy an AI agent for HR with watsonx Orchestrate | Link: https://www.ibm.com/products/watsonx-orchestrate/ai-agent-for-hr?lnk=bus\n",
            "Text: Protect your data with IBM Guardium Data Security Center | Link: https://www.ibm.com/products/guardium-data-security-center?lnk=bus\n",
            "Text: Register for live event | Link: https://www.ibm.com/events/reg/flow/ibm/z0687dmb/landing/page/landing?utm_source=web&utm_id=ibmcom&lnk=hpdo1in\n",
            "Text: next-generation AI | Link: https://www.ibm.com/in-en/artificial-intelligence?lnk=ProdC\n",
            "Text: hybrid cloud solutions | Link: https://www.ibm.com/hybrid-cloud?lnk=ProdC\n",
            "Text: IBM Consulting | Link: https://www.ibm.com/consulting?lnk=ProdC\n",
            "Text: About IBM | Link: https://www.ibm.com/in-en/about?lnk=inside\n",
            "Text: Our history | Link: https://www.ibm.com/history?lnk=inside\n",
            "Text: IBM Research | Link: https://research.ibm.com?lnk=inside\n",
            "Text: Quantum computing | Link: https://www.ibm.com/quantum?lnk=inside\n",
            "Text: Become an IBMer | Link: https://www.ibm.com/in-en/careers?lnk=hpii1in\n",
            "Text: Start learning | Link: https://skillsbuild.org?lnk=hpii1au\n"
          ]
        }
      ]
    },
    {
      "cell_type": "code",
      "source": [],
      "metadata": {
        "id": "kS8nMAseSXoq"
      },
      "execution_count": null,
      "outputs": []
    }
  ]
}