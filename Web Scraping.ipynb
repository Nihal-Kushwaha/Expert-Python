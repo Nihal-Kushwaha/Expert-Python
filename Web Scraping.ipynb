{
  "nbformat": 4,
  "nbformat_minor": 0,
  "metadata": {
    "colab": {
      "provenance": []
    },
    "kernelspec": {
      "name": "python3",
      "display_name": "Python 3"
    },
    "language_info": {
      "name": "python"
    }
  },
  "cells": [
    {
      "cell_type": "markdown",
      "source": [
        "# **Web Scraping Examples with Python**\n",
        "\n",
        "The code you've provided is a collection of examples demonstrating how to extract information from websites using Python. This process is called **web** **scraping**."
      ],
      "metadata": {
        "id": "t7comSUM6M0n"
      }
    },
    {
      "cell_type": "code",
      "execution_count": 10,
      "metadata": {
        "colab": {
          "base_uri": "https://localhost:8080/"
        },
        "id": "p7pLxWB6PESO",
        "outputId": "19aff0f2-26a8-44e5-aba7-62e5e22c9af5"
      },
      "outputs": [
        {
          "output_type": "stream",
          "name": "stdout",
          "text": [
            "Requirement already satisfied: requests in /usr/local/lib/python3.11/dist-packages (2.32.3)\n",
            "Requirement already satisfied: charset-normalizer<4,>=2 in /usr/local/lib/python3.11/dist-packages (from requests) (3.4.2)\n",
            "Requirement already satisfied: idna<4,>=2.5 in /usr/local/lib/python3.11/dist-packages (from requests) (3.10)\n",
            "Requirement already satisfied: urllib3<3,>=1.21.1 in /usr/local/lib/python3.11/dist-packages (from requests) (2.4.0)\n",
            "Requirement already satisfied: certifi>=2017.4.17 in /usr/local/lib/python3.11/dist-packages (from requests) (2025.4.26)\n",
            "Requirement already satisfied: beautifulsoup4 in /usr/local/lib/python3.11/dist-packages (4.13.4)\n",
            "Requirement already satisfied: soupsieve>1.2 in /usr/local/lib/python3.11/dist-packages (from beautifulsoup4) (2.7)\n",
            "Requirement already satisfied: typing-extensions>=4.0.0 in /usr/local/lib/python3.11/dist-packages (from beautifulsoup4) (4.13.2)\n"
          ]
        }
      ],
      "source": [
        "# Install the requests library to make HTTP requests (get web pages)\n",
        "!pip install requests\n",
        "\n",
        "# Install the beautifulsoup4 library to parse HTML content\n",
        "!pip install beautifulsoup4\n",
        "\n",
        "# Import BeautifulSoup for parsing HTML\n",
        "from bs4 import BeautifulSoup\n",
        "\n",
        "# Import requests to fetch web pages\n",
        "import requests"
      ]
    },
    {
      "cell_type": "markdown",
      "source": [
        "**Extract Headlines from TCS: Extract top 5 headlines from https://www.tcs.com/insights**\n"
      ],
      "metadata": {
        "id": "X2gB18bkPe8-"
      }
    },
    {
      "cell_type": "code",
      "source": [
        "import requests\n",
        "from bs4 import BeautifulSoup\n",
        "\n",
        "def get_tcs_headlines():\n",
        "    url = \"https://www.tcs.com/insights\"\n",
        "    response = requests.get(url)\n",
        "    soup = BeautifulSoup(response.text, 'html.parser')\n",
        "\n",
        "    headline = soup.find_all(\"h3\")\n",
        "    for i, h in enumerate(headline[:5]):\n",
        "        print(f\"{i+1}. {h.get_text(strip=True)}\")\n",
        "get_tcs_headlines()"
      ],
      "metadata": {
        "colab": {
          "base_uri": "https://localhost:8080/"
        },
        "id": "Z_Uzt97VPf7F",
        "outputId": "4641ba79-5d69-45d9-8ed0-6ca91048d8d3"
      },
      "execution_count": 3,
      "outputs": [
        {
          "output_type": "stream",
          "name": "stdout",
          "text": [
            "1. TCS is here to make a difference through technology.\n",
            "2. We deliver excellence and create value for customers and communities.\n",
            "3. Extraordinary expertise leads to remarkable results.\n",
            "4. Want to be a global change-maker?  Join our team.\n",
            "5. Find the latest news about TCS in our Newsroom\n"
          ]
        }
      ]
    },
    {
      "cell_type": "markdown",
      "source": [
        " **Get All Hyperlinks from a Website\n",
        "Goal: Extract and print all <a> tags (text + href) from https://www.ibm.com/in-en**"
      ],
      "metadata": {
        "id": "1C2Xo7bPTbRE"
      }
    },
    {
      "cell_type": "code",
      "source": [
        "def extract_links():\n",
        "    url = \"https://www.ibm.com/in-en\"\n",
        "    response = requests.get(url)\n",
        "    soup = BeautifulSoup(response.text, 'html')\n",
        "\n",
        "    links = soup.find_all('a')\n",
        "    for link in links:\n",
        "        text = link.get_text(strip=True)\n",
        "        href = link.get('href')\n",
        "        if href:\n",
        "            print(f\"Text: {text} | Link: {href}\")\n",
        "\n",
        "extract_links()\n"
      ],
      "metadata": {
        "colab": {
          "base_uri": "https://localhost:8080/"
        },
        "id": "49weSnwmSVNh",
        "outputId": "eb589006-e371-45c2-d538-82de1e317821"
      },
      "execution_count": 4,
      "outputs": [
        {
          "output_type": "stream",
          "name": "stdout",
          "text": [
            "Text: Get the event details | Link: https://www.ibm.com/in-en/events/gartner-data-analytics-summit?lnk=hpls1in\n",
            "Text: Explore AI agents | Link: https://www.ibm.com/products/watsonx-orchestrate\n",
            "Text: Start building with IBM Granite models | Link: https://www.ibm.com/granite?lnk=dev\n",
            "Text: Explore AI courses, APIs, data sets and more | Link: https://developer.ibm.com/technologies/artificial-intelligence?lnk=dev\n",
            "Text: Accelerate software development with watsonx Code Assistant | Link: https://www.ibm.com/products/watsonx-code-assistant?lnk=dev\n",
            "Text: Check out the watsonx.ai Developer Toolkit | Link: https://www.ibm.com/watsonx/developer/?lnk=dev\n",
            "Text: Read the CEO's guide to generative AI | Link: https://www.ibm.com/thought-leadership/institute-business-value/report/ceo-generative-ai?lnk=bus\n",
            "Text: Explore an AI curriculum designed for business leaders | Link: https://www.ibm.com/think/videos/ai-academy\n",
            "Text: Deploy an AI agent for HR with watsonx Orchestrate | Link: https://www.ibm.com/products/watsonx-orchestrate/ai-agent-for-hr?lnk=bus\n",
            "Text: Protect your data with IBM Guardium Data Security Center | Link: https://www.ibm.com/products/guardium-data-security-center?lnk=bus\n",
            "Text: Explore watsonx Orchestrate Agent for HR | Link: https://www.ibm.com/products/watsonx-orchestrate/ai-agent-for-hr?lnk=hpdo1in\n",
            "Text: next-generation AI | Link: https://www.ibm.com/in-en/artificial-intelligence?lnk=ProdC\n",
            "Text: hybrid cloud solutions | Link: https://www.ibm.com/hybrid-cloud?lnk=ProdC\n",
            "Text: IBM Consulting | Link: https://www.ibm.com/consulting?lnk=ProdC\n",
            "Text: About IBM | Link: https://www.ibm.com/in-en/about?lnk=inside\n",
            "Text: Our history | Link: https://www.ibm.com/history?lnk=inside\n",
            "Text: IBM Research | Link: https://research.ibm.com?lnk=inside\n",
            "Text: Quantum computing | Link: https://www.ibm.com/quantum?lnk=inside\n",
            "Text: Become an IBMer | Link: https://www.ibm.com/in-en/careers?lnk=hpii1in\n",
            "Text: Start learning | Link: https://skillsbuild.org?lnk=hpii1au\n"
          ]
        }
      ]
    },
    {
      "cell_type": "markdown",
      "source": [
        "**Scrape Book Titles from books.toscrape.com Goal: Get titles of first 10 books.**"
      ],
      "metadata": {
        "id": "mCSj9ck64fED"
      }
    },
    {
      "cell_type": "code",
      "source": [
        "def scrape_book_titles():\n",
        "    url = \"http://books.toscrape.com\"\n",
        "    response = requests.get(url)\n",
        "    soup = BeautifulSoup(response.text, 'html')\n",
        "\n",
        "    books = soup.find_all('h3')[:10]\n",
        "    for i, book in enumerate(books, 1):\n",
        "        title = book.a['title']\n",
        "        print(f\"{i}. {title}\")\n",
        "\n",
        "scrape_book_titles()\n"
      ],
      "metadata": {
        "id": "kS8nMAseSXoq",
        "colab": {
          "base_uri": "https://localhost:8080/"
        },
        "outputId": "eccbe4fa-3d55-4c30-f239-e0e4607879f9"
      },
      "execution_count": 5,
      "outputs": [
        {
          "output_type": "stream",
          "name": "stdout",
          "text": [
            "1. A Light in the Attic\n",
            "2. Tipping the Velvet\n",
            "3. Soumission\n",
            "4. Sharp Objects\n",
            "5. Sapiens: A Brief History of Humankind\n",
            "6. The Requiem Red\n",
            "7. The Dirty Little Secrets of Getting Your Dream Job\n",
            "8. The Coming Woman: A Novel Based on the Life of the Infamous Feminist, Victoria Woodhull\n",
            "9. The Boys in the Boat: Nine Americans and Their Epic Quest for Gold at the 1936 Berlin Olympics\n",
            "10. The Black Maria\n"
          ]
        }
      ]
    },
    {
      "cell_type": "markdown",
      "source": [
        "**Extract Quotes and Authors Goal: Get 5 quotes and their authors from http://quotes.toscrape.com**"
      ],
      "metadata": {
        "id": "mxU42W1u4eaN"
      }
    },
    {
      "cell_type": "code",
      "source": [
        "def scrape_quotes():\n",
        "    url = \"http://quotes.toscrape.com\"\n",
        "    response = requests.get(url)\n",
        "    soup = BeautifulSoup(response.text, 'html.parser')\n",
        "\n",
        "    quotes = soup.find_all('div', class_='quote')[:5]\n",
        "    for i, quote in enumerate(quotes, 1):\n",
        "        text = quote.find('span', class_='text').get_text(strip=True)\n",
        "        author = quote.find('small', class_='author').get_text(strip=True)\n",
        "        print(f\"{i}. {text} — {author}\")\n",
        "\n",
        "scrape_quotes()\n"
      ],
      "metadata": {
        "colab": {
          "base_uri": "https://localhost:8080/"
        },
        "id": "8mTCsZMI4Y-x",
        "outputId": "09e57a63-8414-41bb-a48f-f3ca3bf7f1f0"
      },
      "execution_count": 9,
      "outputs": [
        {
          "output_type": "stream",
          "name": "stdout",
          "text": [
            "1. “The world as we have created it is a process of our thinking. It cannot be changed without changing our thinking.” — Albert Einstein\n",
            "2. “It is our choices, Harry, that show what we truly are, far more than our abilities.” — J.K. Rowling\n",
            "3. “There are only two ways to live your life. One is as though nothing is a miracle. The other is as though everything is a miracle.” — Albert Einstein\n",
            "4. “The person, be it gentleman or lady, who has not pleasure in a good novel, must be intolerably stupid.” — Jane Austen\n",
            "5. “Imperfection is beauty, madness is genius and it's better to be absolutely ridiculous than absolutely boring.” — Marilyn Monroe\n"
          ]
        }
      ]
    }
  ]
}