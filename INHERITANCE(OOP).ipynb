{
  "nbformat": 4,
  "nbformat_minor": 0,
  "metadata": {
    "colab": {
      "provenance": []
    },
    "kernelspec": {
      "name": "python3",
      "display_name": "Python 3"
    },
    "language_info": {
      "name": "python"
    }
  },
  "cells": [
    {
      "cell_type": "markdown",
      "source": [
        "1) **Create an ElectricCar class that inherits from the Car class and includes an additional attribute, battery_size**"
      ],
      "metadata": {
        "id": "1sXC7wbCXz4D"
      }
    },
    {
      "cell_type": "code",
      "execution_count": 8,
      "metadata": {
        "colab": {
          "base_uri": "https://localhost:8080/"
        },
        "id": "rAVmV09LXV4R",
        "outputId": "e0e3c7a8-b513-4ec4-8f65-193cab925d52"
      },
      "outputs": [
        {
          "output_type": "stream",
          "name": "stdout",
          "text": [
            "Tesla Model S 100kwh\n",
            "BMW X7 125kwh\n"
          ]
        }
      ],
      "source": [
        "class Car:\n",
        "    def __init__(self, brand, model):\n",
        "        self.brand = brand\n",
        "        self.model = model\n",
        "class ElectricCar(Car):\n",
        "    def __init__(self, brand, model, battery_size):\n",
        "        super().__init__(brand, model)\n",
        "        self.battery_size = battery_size\n",
        "\n",
        "e_car1 = ElectricCar(\"Tesla\", \"Model S\",\"100kwh\")\n",
        "e_car2 = ElectricCar(\"BMW\", \"X7\", \"125kwh\")\n",
        "print(e_car1.brand,e_car1.model,e_car1.battery_size)\n",
        "print(e_car2.brand,e_car2.model,e_car2.battery_size)"
      ]
    },
    {
      "cell_type": "markdown",
      "source": [
        "2) **Define a Laptop class that inherits from the Computer class and includes an additional attribute, battery_life.**"
      ],
      "metadata": {
        "id": "dMbuCKkmYpGa"
      }
    },
    {
      "cell_type": "code",
      "source": [
        "class Computer:\n",
        "    def __init__(self, brand, processor, ram):\n",
        "        self.brand = brand\n",
        "        self.processor = processor\n",
        "        self.ram = ram\n",
        "\n",
        "class Laptop(Computer):\n",
        "    def __init__(self, brand, processor, ram, battery_life):\n",
        "        super().__init__(brand, processor, ram)\n",
        "        self.battery_life = battery_life\n",
        "\n",
        "laptop1 = Laptop(\"Dell\", \"Intel i7\", \"16 GB RAM\", \"10hrs\")\n",
        "laptop2 = Laptop(\"HP\", \"Intel i5\", \"8 GB RAM\", \"8hrs\")\n",
        "laptop3 = Laptop(\"Lenovo\", \"Intel i3\", \"4 GB RAM\", \"6hrs\")\n",
        "print(laptop1.brand, laptop1.processor, laptop1.ram, laptop1.battery_life)\n",
        "print(laptop2.brand, laptop2.processor, laptop2.ram, laptop2.battery_life)\n",
        "print(laptop3.brand, laptop3.processor, laptop3.ram, laptop3.battery_life)"
      ],
      "metadata": {
        "colab": {
          "base_uri": "https://localhost:8080/"
        },
        "id": "EymPyuVhYw2W",
        "outputId": "ccb7443f-c49b-467b-e224-606c03249bbd"
      },
      "execution_count": 11,
      "outputs": [
        {
          "output_type": "stream",
          "name": "stdout",
          "text": [
            "Dell Intel i7 16 GB RAM 10hrs\n",
            "HP Intel i5 8 GB RAM 8hrs\n",
            "Lenovo Intel i3 4 GB RAM 6hrs\n"
          ]
        }
      ]
    },
    {
      "cell_type": "markdown",
      "source": [
        "3) **Create a Smartphone class and add another child class of your choice that inherits from an ElectronicDevice class. Include an additional attribute, operating_system**"
      ],
      "metadata": {
        "id": "QISd8GOvDdFy"
      }
    },
    {
      "cell_type": "code",
      "source": [
        "class ElectronicDevice:\n",
        "    def __init__(self, brand, model):\n",
        "        self.brand = brand\n",
        "        self.model = model\n",
        "\n",
        "class Smartphone(ElectronicDevice):\n",
        "    def __init__(self, brand, model, operating_system):\n",
        "        super().__init__(brand, model)\n",
        "        self.operating_system = operating_system\n",
        "\n",
        "class Smartphone2(ElectronicDevice):\n",
        "    def __init__(self, brand, model, operating_system):\n",
        "        super().__init__(brand, model)\n",
        "        self.operating_system = operating_system\n",
        "\n",
        "smartphone1= Smartphone(\"Apple\", \"iPhone 15\",\"iOS\")\n",
        "smartphone2 = Smartphone2(\"Samsung\", \"Galaxy S25 ULTRA\", \"Android\")\n",
        "print(smartphone1.brand,smartphone1.model,smartphone1.operating_system)\n",
        "print(smartphone2.brand,smartphone2.model,smartphone2.operating_system)\n",
        ""
      ],
      "metadata": {
        "colab": {
          "base_uri": "https://localhost:8080/"
        },
        "id": "uJ_8KyWJaf2V",
        "outputId": "04a44de5-c4b8-49af-cde2-ec52e489d53f"
      },
      "execution_count": 13,
      "outputs": [
        {
          "output_type": "stream",
          "name": "stdout",
          "text": [
            "Apple iPhone 15 iOS\n",
            "Samsung Galaxy S25 ULTRA Android\n"
          ]
        }
      ]
    },
    {
      "cell_type": "markdown",
      "source": [
        "**4) Implement a Musician class and create another child class of your choice that extends an Artist class. Include an additional attribute, instrument_played.**"
      ],
      "metadata": {
        "id": "a0QxBt_DDnYN"
      }
    },
    {
      "cell_type": "code",
      "source": [
        "class Musician:\n",
        "    def __init__(self,name,place):\n",
        "        self.name=name\n",
        "        self.place=place\n",
        "class Artist(Musician):\n",
        "    def __init__(self,name,place,composition):\n",
        "        super().__init__(name,place)\n",
        "        self.composition=composition\n",
        "class Instrument(Artist):\n",
        "    def __init__(self,name,place,composition,instruments):\n",
        "        super().__init__(name,place,composition)\n",
        "        self.instruments=instruments\n",
        "musician1=Instrument(\"Sherya Ghoshal\",\"Bengal\",\"Abhishek\",\"piano\")\n",
        "musician2=Instrument(\"Arjit Singh\",\"Bengal\",\"Pretam\",\"piano\")\n",
        "print(musician1.name,musician1.place,musician1.composition,musician1.instruments)\n",
        "print(musician2.name,musician2.place,musician2.composition,musician2.instruments)"
      ],
      "metadata": {
        "id": "saJJM7vVDp7N",
        "colab": {
          "base_uri": "https://localhost:8080/"
        },
        "outputId": "acf97838-a544-4c78-9202-66c374451470"
      },
      "execution_count": 15,
      "outputs": [
        {
          "output_type": "stream",
          "name": "stdout",
          "text": [
            "Sherya Ghoshal Bengal Abhishek piano\n",
            "Arjit Singh Bengal Pretam piano\n"
          ]
        }
      ]
    },
    {
      "cell_type": "markdown",
      "source": [
        "**5) Define a FictionBook class and add another child class of your choice that inherits from the Book class. Include an additional attribute, genre**"
      ],
      "metadata": {
        "id": "BWZJULNfDtTD"
      }
    },
    {
      "cell_type": "code",
      "source": [
        "class FictionBook:\n",
        "    def __init__(self,book,writer):\n",
        "        self.book=book\n",
        "        self.writer=writer\n",
        "class Book(FictionBook):\n",
        "    def __init__(self,book,writer,genre):\n",
        "        super().__init__(book,writer)\n",
        "        self.genre=genre\n",
        "book1=Book(\"Atomic Habits\",\"James Clear\",\"Self Help\")\n",
        "book2=Book(\"The Power of Habit\",\"Charles Duhigg\",\"Psychology\")\n",
        "book3=Book(\"Deep Work\",\"Cal Newport\",\"Productivity\")\n",
        "print(book1.book,book1.writer,book1.genre)\n",
        "print(book2.book,book2.writer,book2.genre)\n",
        "print(book3.book,book3.writer,book3.genre)"
      ],
      "metadata": {
        "id": "tGYt1TB5D18q",
        "colab": {
          "base_uri": "https://localhost:8080/"
        },
        "outputId": "89cba08a-514d-4a7f-b00d-f84c86b48fb4"
      },
      "execution_count": 18,
      "outputs": [
        {
          "output_type": "stream",
          "name": "stdout",
          "text": [
            "Atomic Habits James Clear Self Help\n",
            "The Power of Habit Charles Duhigg Psychology\n",
            "Deep Work Cal Newport Productivity\n"
          ]
        }
      ]
    },
    {
      "cell_type": "markdown",
      "source": [
        "**Bonus Question-**\n",
        "1) ***Create a student class that takes the name & marks of 3 subjects as arguments in the constructor. Then create a method to print the average***"
      ],
      "metadata": {
        "id": "9Mzwkh5rEANu"
      }
    },
    {
      "cell_type": "code",
      "source": [
        "class Student():\n",
        "    def __init__(self,name,marks):\n",
        "        self.name=name\n",
        "        self.marks=marks\n",
        "s1=Student(\"Alice\",[85, 90, 78])\n",
        "print(s1.name,s1.marks)\n",
        "total=sum(s1.marks)\n",
        "len=len(s1.marks)\n",
        "average=total/len\n",
        "print(f\"Total marks = {total},and thier average = {average}\")"
      ],
      "metadata": {
        "id": "jW5_OH25EMLB",
        "colab": {
          "base_uri": "https://localhost:8080/"
        },
        "outputId": "28379e77-9a4c-4e14-d375-1220f25ee1bc"
      },
      "execution_count": 20,
      "outputs": [
        {
          "output_type": "stream",
          "name": "stdout",
          "text": [
            "Alice [85, 90, 78]\n",
            "Total marks = 253,and thier average = 84.33333333333333\n"
          ]
        }
      ]
    },
    {
      "cell_type": "code",
      "source": [],
      "metadata": {
        "id": "65sX7XZHib7D"
      },
      "execution_count": null,
      "outputs": []
    }
  ]
}