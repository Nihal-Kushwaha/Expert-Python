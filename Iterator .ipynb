{
  "nbformat": 4,
  "nbformat_minor": 0,
  "metadata": {
    "colab": {
      "provenance": []
    },
    "kernelspec": {
      "name": "python3",
      "display_name": "Python 3"
    },
    "language_info": {
      "name": "python"
    }
  },
  "cells": [
    {
      "cell_type": "markdown",
      "source": [
        "**1) Write a program to iterate over a list using an iterator and a while loop.\n",
        "[10, 20, 30, 40]**"
      ],
      "metadata": {
        "id": "WNlUcZHWQyHL"
      }
    },
    {
      "cell_type": "code",
      "source": [
        "Number = [10,20,30,40]\n",
        "num_iterator = iter(Number)\n",
        "\n",
        "while True:\n",
        "    try:\n",
        "        print(next(num_iterator))\n",
        "    except StopIteration:\n",
        "        break\n"
      ],
      "metadata": {
        "colab": {
          "base_uri": "https://localhost:8080/"
        },
        "id": "vw7Eub9uNQNj",
        "outputId": "40351c22-92d2-4283-fb33-f98ccdd70999"
      },
      "execution_count": null,
      "outputs": [
        {
          "output_type": "stream",
          "name": "stdout",
          "text": [
            "10\n",
            "20\n",
            "30\n",
            "40\n"
          ]
        }
      ]
    },
    {
      "cell_type": "markdown",
      "source": [
        "**2) What happens if we call next() on an iterator that has no more items left?**"
      ],
      "metadata": {
        "id": "nQcLkqcVO2kV"
      }
    },
    {
      "cell_type": "code",
      "source": [
        "Name = [\"Aman\",\"Sumit\",\"AkashDeep\",\"Amit\"]\n",
        "Student = iter(Name)\n",
        "\n",
        "print(next(Student))\n",
        "print(next(Student))\n",
        "print(next(Student))\n",
        "print(next(Student))\n",
        "print(next(Student))"
      ],
      "metadata": {
        "colab": {
          "base_uri": "https://localhost:8080/",
          "height": 245
        },
        "id": "7LoWgqngO6Yu",
        "outputId": "41b3693f-a21b-4d22-af79-1ea2c9056d02"
      },
      "execution_count": null,
      "outputs": [
        {
          "output_type": "stream",
          "name": "stdout",
          "text": [
            "Aman\n",
            "Sumit\n",
            "AkashDeep\n",
            "Amit\n"
          ]
        },
        {
          "output_type": "error",
          "ename": "StopIteration",
          "evalue": "",
          "traceback": [
            "\u001b[0;31m---------------------------------------------------------------------------\u001b[0m",
            "\u001b[0;31mStopIteration\u001b[0m                             Traceback (most recent call last)",
            "\u001b[0;32m<ipython-input-2-2ea5463981be>\u001b[0m in \u001b[0;36m<cell line: 0>\u001b[0;34m()\u001b[0m\n\u001b[1;32m      6\u001b[0m \u001b[0mprint\u001b[0m\u001b[0;34m(\u001b[0m\u001b[0mnext\u001b[0m\u001b[0;34m(\u001b[0m\u001b[0mStudent\u001b[0m\u001b[0;34m)\u001b[0m\u001b[0;34m)\u001b[0m\u001b[0;34m\u001b[0m\u001b[0;34m\u001b[0m\u001b[0m\n\u001b[1;32m      7\u001b[0m \u001b[0mprint\u001b[0m\u001b[0;34m(\u001b[0m\u001b[0mnext\u001b[0m\u001b[0;34m(\u001b[0m\u001b[0mStudent\u001b[0m\u001b[0;34m)\u001b[0m\u001b[0;34m)\u001b[0m\u001b[0;34m\u001b[0m\u001b[0;34m\u001b[0m\u001b[0m\n\u001b[0;32m----> 8\u001b[0;31m \u001b[0mprint\u001b[0m\u001b[0;34m(\u001b[0m\u001b[0mnext\u001b[0m\u001b[0;34m(\u001b[0m\u001b[0mStudent\u001b[0m\u001b[0;34m)\u001b[0m\u001b[0;34m)\u001b[0m\u001b[0;34m\u001b[0m\u001b[0;34m\u001b[0m\u001b[0m\n\u001b[0m",
            "\u001b[0;31mStopIteration\u001b[0m: "
          ]
        }
      ]
    },
    {
      "cell_type": "markdown",
      "source": [
        "**3) How do you use a ‘for loop’ to iterate over an iterator. [\"a\", \"b\", \"c\"]**"
      ],
      "metadata": {
        "id": "uuxKRgUxPi9L"
      }
    },
    {
      "cell_type": "code",
      "source": [
        "text = [\"a\",\"b\",\"c\"]\n",
        "iterator = iter(text)\n",
        "\n",
        "for item in iterator:\n",
        "    print(item)"
      ],
      "metadata": {
        "colab": {
          "base_uri": "https://localhost:8080/"
        },
        "id": "54SHHXY2Pldc",
        "outputId": "1793e74f-706a-4f25-fed4-2480736d944a"
      },
      "execution_count": null,
      "outputs": [
        {
          "output_type": "stream",
          "name": "stdout",
          "text": [
            "a\n",
            "b\n",
            "c\n"
          ]
        }
      ]
    },
    {
      "cell_type": "markdown",
      "source": [
        "**4) How do you use iter() and next() to iterate through a range of numbers?**"
      ],
      "metadata": {
        "id": "bSNUiFpXQGsi"
      }
    },
    {
      "cell_type": "code",
      "source": [
        "range_iter = iter(range(6))\n",
        "\n",
        "print(next(range_iter))\n",
        "print(next(range_iter))\n",
        "print(next(range_iter))\n",
        "print(next(range_iter))\n",
        "print(next(range_iter))"
      ],
      "metadata": {
        "colab": {
          "base_uri": "https://localhost:8080/"
        },
        "id": "juyXGE0zQLZ6",
        "outputId": "f6a5fb43-3006-40cc-ec25-a6d02579c46d"
      },
      "execution_count": null,
      "outputs": [
        {
          "output_type": "stream",
          "name": "stdout",
          "text": [
            "0\n",
            "1\n",
            "2\n",
            "3\n",
            "4\n"
          ]
        }
      ]
    },
    {
      "cell_type": "markdown",
      "source": [
        "**5) Write a program to convert an iterator into a list.**"
      ],
      "metadata": {
        "id": "_sMS2RM4Q8f2"
      }
    },
    {
      "cell_type": "code",
      "source": [],
      "metadata": {
        "id": "FDKAa92bI9Vq"
      },
      "execution_count": null,
      "outputs": []
    }
  ]
}